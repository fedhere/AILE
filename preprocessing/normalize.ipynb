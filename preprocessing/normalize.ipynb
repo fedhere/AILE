{
 "cells": [
  {
   "cell_type": "code",
   "execution_count": null,
   "id": "07b95ee3",
   "metadata": {},
   "outputs": [],
   "source": [
    "import numpy as np \n",
    "import pandas as pd\n",
    "import cv2 \n",
    "import matplotlib.pyplot as plt \n",
    "import pickle as pkl\n",
    "%matplotlib inline"
   ]
  },
  {
   "cell_type": "code",
   "execution_count": null,
   "id": "dc1b22fb",
   "metadata": {},
   "outputs": [],
   "source": [
    "def load_fits(image_path, clipfits=True, clipvmax=10, normfits=True, range01=False):\n",
    "    # change path to fits npz\n",
    "    fitspath = image_path.replace('images/train/', 'fits/').replace('jpg', 'fits.npz') \n",
    "\n",
    "    fitsarr = np.load(fitspath)['fitsarr']\n",
    "    #image = np.repeat( np.expand_dims(fitarr, axis=2), repeats=3, axis=2)\n",
    "    if clipfits:\n",
    "        fitsarr = np.clip(fitsarr, a_min=-clipvmax, a_max=clipvmax)\n",
    "        print('clip', clipvmax)\n",
    "    if normfits:\n",
    "        #normalize to mean=0, std=1\n",
    "        fitsarr = (fitsarr - fitsarr.mean() )/ fitsarr.std()\n",
    "        print('norm to mean 0')\n",
    "    if range01:\n",
    "        # change range to [0, 1]\n",
    "        fitsarr = (fitsarr + clipvmax) / (clipvmax * 2)\n",
    "        print('range to [0, 1]')\n",
    "        \n",
    "    return fitsarr\n",
    " "
   ]
  },
  {
   "cell_type": "code",
   "execution_count": null,
   "id": "a3375bf2",
   "metadata": {},
   "outputs": [],
   "source": []
  }
 ],
 "metadata": {
  "kernelspec": {
   "display_name": "Python 3 (ipykernel)",
   "language": "python",
   "name": "python3"
  },
  "language_info": {
   "codemirror_mode": {
    "name": "ipython",
    "version": 3
   },
   "file_extension": ".py",
   "mimetype": "text/x-python",
   "name": "python",
   "nbconvert_exporter": "python",
   "pygments_lexer": "ipython3",
   "version": "3.8.12"
  }
 },
 "nbformat": 4,
 "nbformat_minor": 5
}
